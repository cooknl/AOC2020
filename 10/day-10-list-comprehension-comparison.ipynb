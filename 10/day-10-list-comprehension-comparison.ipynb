{
 "cells": [
  {
   "cell_type": "code",
   "execution_count": 1,
   "metadata": {},
   "outputs": [],
   "source": [
    "from functools import lru_cache\n",
    "from random import randint"
   ]
  },
  {
   "cell_type": "code",
   "execution_count": 2,
   "metadata": {},
   "outputs": [],
   "source": [
    "raw_data = '''104\n",
    "83\n",
    "142\n",
    "123\n",
    "87\n",
    "48\n",
    "102\n",
    "159\n",
    "122\n",
    "69\n",
    "127\n",
    "151\n",
    "147\n",
    "64\n",
    "152\n",
    "90\n",
    "117\n",
    "132\n",
    "63\n",
    "109\n",
    "27\n",
    "47\n",
    "7\n",
    "52\n",
    "59\n",
    "11\n",
    "161\n",
    "12\n",
    "148\n",
    "155\n",
    "129\n",
    "10\n",
    "135\n",
    "17\n",
    "153\n",
    "96\n",
    "3\n",
    "93\n",
    "82\n",
    "55\n",
    "34\n",
    "65\n",
    "89\n",
    "126\n",
    "19\n",
    "72\n",
    "20\n",
    "38\n",
    "103\n",
    "146\n",
    "14\n",
    "105\n",
    "53\n",
    "77\n",
    "120\n",
    "39\n",
    "46\n",
    "24\n",
    "139\n",
    "95\n",
    "140\n",
    "33\n",
    "21\n",
    "84\n",
    "56\n",
    "1\n",
    "32\n",
    "31\n",
    "28\n",
    "4\n",
    "73\n",
    "128\n",
    "49\n",
    "18\n",
    "62\n",
    "81\n",
    "66\n",
    "121\n",
    "54\n",
    "160\n",
    "158\n",
    "138\n",
    "94\n",
    "43\n",
    "2\n",
    "114\n",
    "111\n",
    "110\n",
    "78\n",
    "13\n",
    "99\n",
    "108\n",
    "141\n",
    "40\n",
    "25\n",
    "154\n",
    "26\n",
    "35\n",
    "88\n",
    "76\n",
    "145'''"
   ]
  },
  {
   "cell_type": "code",
   "execution_count": 3,
   "metadata": {},
   "outputs": [],
   "source": [
    "def generate_data_iterator(data_string):\n",
    "    return list(int(d) for d in data_string.split('\\n'))"
   ]
  },
  {
   "cell_type": "code",
   "execution_count": 4,
   "metadata": {},
   "outputs": [],
   "source": [
    "data_iter = sorted(generate_data_iterator(raw_data))\n",
    "data_extended = [0] + data_iter + [data_iter[-1] + 3]"
   ]
  },
  {
   "cell_type": "code",
   "execution_count": 5,
   "metadata": {},
   "outputs": [],
   "source": [
    "diff1 = data_extended[:1]"
   ]
  },
  {
   "cell_type": "code",
   "execution_count": 6,
   "metadata": {},
   "outputs": [
    {
     "name": "stdout",
     "output_type": "stream",
     "text": [
      "15.3 µs ± 431 ns per loop (mean ± std. dev. of 7 runs, 100000 loops each)\n"
     ]
    }
   ],
   "source": [
    "%%timeit\n",
    "for x, y in zip(data_extended[:-1], data_extended[1:]):\n",
    "    diff1.append(y - x)"
   ]
  },
  {
   "cell_type": "code",
   "execution_count": 7,
   "metadata": {},
   "outputs": [
    {
     "name": "stdout",
     "output_type": "stream",
     "text": [
      "10.6 µs ± 376 ns per loop (mean ± std. dev. of 7 runs, 100000 loops each)\n"
     ]
    }
   ],
   "source": [
    "%%timeit\n",
    "diff2 = [j - i for i, j in zip(sorted(data_extended)[: -1], \n",
    "                              sorted(data_extended)[1 :])]"
   ]
  },
  {
   "cell_type": "code",
   "execution_count": 8,
   "metadata": {},
   "outputs": [],
   "source": [
    "rand_list = [randint(2,9) for _ in range(100)]"
   ]
  },
  {
   "cell_type": "code",
   "execution_count": 9,
   "metadata": {},
   "outputs": [],
   "source": [
    "@lru_cache\n",
    "def calc_series_cached(n):\n",
    "    if n == 0:\n",
    "        return 1\n",
    "    elif n == 1:\n",
    "        return 1\n",
    "    elif n == 2:\n",
    "        return 2\n",
    "    else:\n",
    "        return calc_series_cached(n-1) + calc_series_cached(n-2) + calc_series_cached(n-3)"
   ]
  },
  {
   "cell_type": "code",
   "execution_count": 10,
   "metadata": {},
   "outputs": [
    {
     "name": "stdout",
     "output_type": "stream",
     "text": [
      "10 µs ± 135 ns per loop (mean ± std. dev. of 7 runs, 100000 loops each)\n"
     ]
    }
   ],
   "source": [
    "%%timeit    \n",
    "series_list_cached = [calc_series_cached(r) for r in rand_list]"
   ]
  },
  {
   "cell_type": "code",
   "execution_count": 11,
   "metadata": {},
   "outputs": [],
   "source": [
    "def calc_series(n):\n",
    "    if n == 0:\n",
    "        return 1\n",
    "    elif n == 1:\n",
    "        return 1\n",
    "    elif n == 2:\n",
    "        return 2\n",
    "    else:\n",
    "        return calc_series(n-1) + calc_series(n-2) + calc_series(n-3)"
   ]
  },
  {
   "cell_type": "code",
   "execution_count": 12,
   "metadata": {},
   "outputs": [
    {
     "name": "stdout",
     "output_type": "stream",
     "text": [
      "798 µs ± 10.2 µs per loop (mean ± std. dev. of 7 runs, 1000 loops each)\n"
     ]
    }
   ],
   "source": [
    "%%timeit    \n",
    "series_list = [calc_series(r) for r in rand_list]"
   ]
  }
 ],
 "metadata": {
  "kernelspec": {
   "display_name": "Python 3",
   "language": "python",
   "name": "python3"
  },
  "language_info": {
   "codemirror_mode": {
    "name": "ipython",
    "version": 3
   },
   "file_extension": ".py",
   "mimetype": "text/x-python",
   "name": "python",
   "nbconvert_exporter": "python",
   "pygments_lexer": "ipython3",
   "version": "3.8.5"
  }
 },
 "nbformat": 4,
 "nbformat_minor": 4
}
